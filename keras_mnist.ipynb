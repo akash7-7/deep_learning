{
  "nbformat": 4,
  "nbformat_minor": 0,
  "metadata": {
    "colab": {
      "name": "keras_mnist.ipynb",
      "version": "0.3.2",
      "provenance": [],
      "collapsed_sections": []
    },
    "kernelspec": {
      "name": "python3",
      "display_name": "Python 3"
    },
    "accelerator": "GPU"
  },
  "cells": [
    {
      "cell_type": "markdown",
      "metadata": {
        "id": "view-in-github",
        "colab_type": "text"
      },
      "source": [
        "[View in Colaboratory](https://colab.research.google.com/github/akash7-7/deep_learning/blob/master/keras_mnist.ipynb)"
      ]
    },
    {
      "metadata": {
        "id": "fxMuNwpvfJRA",
        "colab_type": "code",
        "colab": {
          "base_uri": "https://localhost:8080/",
          "height": 34
        },
        "outputId": "de4371ac-46bc-4341-c3dc-9b4a328a187f"
      },
      "cell_type": "code",
      "source": [
        "from __future__ import print_function\n",
        "import keras\n",
        "from keras.datasets import mnist\n",
        "from keras.models import Sequential\n",
        "from keras.layers import Dense, Dropout, Flatten\n",
        "from keras.layers import Conv2D, MaxPooling2D\n",
        "from keras import backend as K\n",
        "\n",
        "batch_size = 128\n",
        "num_classes = 10\n",
        "epochs = 12"
      ],
      "execution_count": 1,
      "outputs": [
        {
          "output_type": "stream",
          "text": [
            "Using TensorFlow backend.\n"
          ],
          "name": "stderr"
        }
      ]
    },
    {
      "metadata": {
        "id": "AE5VzIZShwJP",
        "colab_type": "code",
        "colab": {
          "base_uri": "https://localhost:8080/",
          "height": 102
        },
        "outputId": "e1d10ea7-b71a-4e69-f516-2790a7ae4043"
      },
      "cell_type": "code",
      "source": [
        "# input image dimensions\n",
        "img_rows, img_cols = 28, 28\n",
        "\n",
        "# the data, split between train and test sets\n",
        "(x_train, y_train), (x_test, y_test) = mnist.load_data()\n",
        "\n",
        "if K.image_data_format() == 'channels_first':\n",
        "    x_train = x_train.reshape(x_train.shape[0], 1, img_rows, img_cols)\n",
        "    x_test = x_test.reshape(x_test.shape[0], 1, img_rows, img_cols)\n",
        "    input_shape = (1, img_rows, img_cols)\n",
        "else:\n",
        "    x_train = x_train.reshape(x_train.shape[0], img_rows, img_cols, 1)\n",
        "    x_test = x_test.reshape(x_test.shape[0], img_rows, img_cols, 1)\n",
        "    input_shape = (img_rows, img_cols, 1)\n",
        "\n",
        "x_train = x_train.astype('float32')\n",
        "x_test = x_test.astype('float32')\n",
        "x_train /= 255\n",
        "x_test /= 255\n",
        "print('x_train shape:', x_train.shape)\n",
        "print(x_train.shape[0], 'train samples')\n",
        "print(x_test.shape[0], 'test samples')\n",
        "\n",
        "# convert class vectors to binary class matrices\n",
        "y_train = keras.utils.to_categorical(y_train, num_classes)\n",
        "y_test = keras.utils.to_categorical(y_test, num_classes)\n"
      ],
      "execution_count": 2,
      "outputs": [
        {
          "output_type": "stream",
          "text": [
            "Downloading data from https://s3.amazonaws.com/img-datasets/mnist.npz\n",
            "11493376/11490434 [==============================] - 2s 0us/step\n",
            "x_train shape: (60000, 28, 28, 1)\n",
            "60000 train samples\n",
            "10000 test samples\n"
          ],
          "name": "stdout"
        }
      ]
    },
    {
      "metadata": {
        "id": "f0JeB72uhqh6",
        "colab_type": "code",
        "colab": {}
      },
      "cell_type": "code",
      "source": [
        "#CNN\n",
        "model = Sequential()\n",
        "model.add(Conv2D(32, kernel_size=(3, 3),\n",
        "                 activation='relu',\n",
        "                 input_shape=input_shape))\n",
        "model.add(Conv2D(64, (3, 3), activation='relu'))\n",
        "model.add(MaxPooling2D(pool_size=(2, 2)))\n",
        "model.add(Dropout(0.25))\n",
        "model.add(Flatten())\n",
        "model.add(Dense(128, activation='relu'))\n",
        "model.add(Dropout(0.5))\n",
        "model.add(Dense(num_classes, activation='softmax'))"
      ],
      "execution_count": 0,
      "outputs": []
    },
    {
      "metadata": {
        "id": "_HO0e0mIhoWG",
        "colab_type": "code",
        "colab": {}
      },
      "cell_type": "code",
      "source": [
        "#Compiling model\n",
        "model.compile(loss=keras.losses.categorical_crossentropy,\n",
        "              optimizer=keras.optimizers.Adadelta(),\n",
        "              metrics=['accuracy'])\n"
      ],
      "execution_count": 0,
      "outputs": []
    },
    {
      "metadata": {
        "id": "IS3ABGzShmWq",
        "colab_type": "code",
        "colab": {
          "base_uri": "https://localhost:8080/",
          "height": 496
        },
        "outputId": "12579ebd-f9b4-49b4-873a-6ea418ae7628"
      },
      "cell_type": "code",
      "source": [
        "#fitting and checking the accuracy\n",
        "model.fit(x_train, y_train,\n",
        "          batch_size=batch_size,\n",
        "          epochs=epochs,\n",
        "          verbose=1,\n",
        "          validation_data=(x_test, y_test))\n",
        "score = model.evaluate(x_test, y_test, verbose=0)\n",
        "\n",
        "print('Test loss:', score[0])\n",
        "print('Test accuracy:', score[1])"
      ],
      "execution_count": 5,
      "outputs": [
        {
          "output_type": "stream",
          "text": [
            "Train on 60000 samples, validate on 10000 samples\n",
            "Epoch 1/12\n",
            "60000/60000 [==============================] - 13s 213us/step - loss: 0.2623 - acc: 0.9192 - val_loss: 0.0631 - val_acc: 0.9792\n",
            "Epoch 2/12\n",
            "60000/60000 [==============================] - 11s 177us/step - loss: 0.0916 - acc: 0.9730 - val_loss: 0.0415 - val_acc: 0.9864\n",
            "Epoch 3/12\n",
            "27776/60000 [============>.................] - ETA: 5s - loss: 0.0693 - acc: 0.9798"
          ],
          "name": "stdout"
        },
        {
          "output_type": "stream",
          "text": [
            "60000/60000 [==============================] - 10s 174us/step - loss: 0.0675 - acc: 0.9801 - val_loss: 0.0354 - val_acc: 0.9883\n",
            "Epoch 4/12\n",
            "60000/60000 [==============================] - 11s 178us/step - loss: 0.0543 - acc: 0.9837 - val_loss: 0.0324 - val_acc: 0.9894\n",
            "Epoch 5/12\n",
            "58112/60000 [============================>.] - ETA: 0s - loss: 0.0481 - acc: 0.9852"
          ],
          "name": "stdout"
        },
        {
          "output_type": "stream",
          "text": [
            "60000/60000 [==============================] - 11s 179us/step - loss: 0.0477 - acc: 0.9853 - val_loss: 0.0340 - val_acc: 0.9889\n",
            "Epoch 6/12\n",
            "60000/60000 [==============================] - 10s 175us/step - loss: 0.0423 - acc: 0.9870 - val_loss: 0.0300 - val_acc: 0.9902\n",
            "Epoch 7/12\n",
            "60000/60000 [==============================] - 11s 180us/step - loss: 0.0399 - acc: 0.9876 - val_loss: 0.0277 - val_acc: 0.9914\n",
            "Epoch 8/12\n",
            " 3584/60000 [>.............................] - ETA: 9s - loss: 0.0338 - acc: 0.9900"
          ],
          "name": "stdout"
        },
        {
          "output_type": "stream",
          "text": [
            "60000/60000 [==============================] - 11s 176us/step - loss: 0.0341 - acc: 0.9902 - val_loss: 0.0272 - val_acc: 0.9919\n",
            "Epoch 9/12\n",
            "60000/60000 [==============================] - 11s 176us/step - loss: 0.0326 - acc: 0.9893 - val_loss: 0.0280 - val_acc: 0.9918\n",
            "Epoch 10/12\n",
            "51968/60000 [========================>.....] - ETA: 1s - loss: 0.0285 - acc: 0.9910"
          ],
          "name": "stdout"
        },
        {
          "output_type": "stream",
          "text": [
            "60000/60000 [==============================] - 11s 178us/step - loss: 0.0290 - acc: 0.9909 - val_loss: 0.0296 - val_acc: 0.9906\n",
            "Epoch 11/12\n",
            "60000/60000 [==============================] - 10s 172us/step - loss: 0.0281 - acc: 0.9914 - val_loss: 0.0337 - val_acc: 0.9902\n",
            "Epoch 12/12\n",
            "60000/60000 [==============================] - 11s 178us/step - loss: 0.0271 - acc: 0.9921 - val_loss: 0.0253 - val_acc: 0.9922\n",
            "Test loss: 0.025307202257578047\n",
            "Test accuracy: 0.9922\n"
          ],
          "name": "stdout"
        }
      ]
    }
  ]
}